{
 "cells": [
  {
   "cell_type": "code",
   "execution_count": 1,
   "metadata": {
    "collapsed": true
   },
   "outputs": [],
   "source": [
    "import matplotlib.pyplot as plt\n",
    "import numpy as np "
   ]
  },
  {
   "cell_type": "code",
   "execution_count": 3,
   "metadata": {
    "collapsed": true
   },
   "outputs": [],
   "source": [
    "import pandas as pd"
   ]
  },
  {
   "cell_type": "code",
   "execution_count": 22,
   "metadata": {},
   "outputs": [
    {
     "data": {
      "text/plain": [
       "'\\ndescription: \\nA \\nAudio_only\\n\\nB \\nAudio, phoneme, trans are aligned and have their seperate Positional encodings and then encoded, \\ncontatenated and passed through fully connected layers \\n\\nC\\naudio, phoneme, trans are aligned but only one have one Positional encoding \\n\\nD\\naudio phoneme trans are unaligned and have their own Positional encoding \\n\\nE\\naudio, phoneme, trans are aligned, have their own PE, in addition to the phoneme and trans not aligned and having their own PE, \\nall encoded and then concatenated, FC\\n\\nF\\naudio, phoneme, trans are aligned, concatenated, one positional encoding and encoded (1). In additiona, phoneme unaligned, trans\\nunaligned have their own respective PE, encoded, concated with (1), and then passed through FC. \\n\\n'"
      ]
     },
     "execution_count": 22,
     "metadata": {},
     "output_type": "execute_result"
    }
   ],
   "source": [
    "A_logs = {  \"train-precision\": 0.7097455166587656,\n",
    "  \"train-recall\": 0.6790534092393727,\n",
    "  \"train-accuracy\": 0.7188745019920318,\n",
    "  \"train-f1\": 0.6853571375721754,\n",
    "#   \"train_acc\": 0.7188745019920318,\n",
    "  \"test-precision\": 0.6120915815726278,\n",
    "  \"test-recall\": 0.5786252138912655,\n",
    "  \"test-accuracy\": 0.630801687763713,\n",
    "  \"test-f1\": 0.5663670543079437,\n",
    "#   \"test_acc\": 0.630801687763713,\n",
    "         }\n",
    "\n",
    "B1_logs = {  \"train-precision\": 0.7465644972692373,\n",
    "  \"train-recall\": 0.7170955578878715,\n",
    "  \"train-accuracy\": 0.7562250996015937,\n",
    "  \"train-f1\": 0.7249778162651889,\n",
    "#   \"train_acc\": 0.7562250996015937,\n",
    "  \"test-precision\": 0.6237036728886238,\n",
    "  \"test-recall\": 0.6130233044256047,\n",
    "  \"test-accuracy\": 0.6455696202531646,\n",
    "  \"test-f1\": 0.5997372159716612,\n",
    "#   \"test_acc\": 0.6455696202531646,\n",
    "          }\n",
    "\n",
    "B2_logs = {  \"train-precision\": 0.7781475553208416,\n",
    "  \"train-recall\": 0.7706874140389375,\n",
    "  \"train-accuracy\": 0.790089641434263,\n",
    "  \"train-f1\": 0.7732880329523869,\n",
    "#   \"train_acc\": 0.790089641434263,\n",
    "  \"test-precision\": 0.6425908629675753,\n",
    "  \"test-recall\": 0.6418344578828654,\n",
    "  \"test-accuracy\": 0.6666666666666666,\n",
    "  \"test-f1\": 0.6365992321181975,\n",
    "#   \"test_acc\": 0.6666666666666666,\n",
    "          }\n",
    "\n",
    "C_logs =  { \"train-precision\": 0.5186201405417659,\n",
    "  \"train-recall\": 0.5390155085375945,\n",
    "  \"train-accuracy\": 0.6187749003984063,\n",
    "  \"train-f1\": 0.5061176025077506,\n",
    "#   \"train_acc\": 0.6187749003984063,\n",
    "  \"test-precision\": 0.41228879426872134,\n",
    "  \"test-recall\": 0.4771437738197091,\n",
    "  \"test-accuracy\": 0.5210970464135021,\n",
    "  \"test-f1\": 0.4321305591762874,\n",
    "#   \"test_acc\": 0.5210970464135021,\n",
    "          }\n",
    "\n",
    "D_logs = {  \"train-precision\": 0.7759518549702835,\n",
    "  \"train-recall\": 0.771169420085449,\n",
    "  \"train-accuracy\": 0.7853585657370518,\n",
    "  \"train-f1\": 0.7729255343528265,\n",
    "#   \"train_acc\": 0.7853585657370518,\n",
    "  \"test-precision\": 0.6441426292937236,\n",
    "  \"test-recall\": 0.6258147312747919,\n",
    "  \"test-accuracy\": 0.6455696202531646,\n",
    "  \"test-f1\": 0.6269390464620144,\n",
    "#   \"test_acc\": 0.6455696202531646,\n",
    "         }\n",
    "\n",
    "E_logs = {  \"train-precision\": 0.7459963362462736,\n",
    "  \"train-recall\": 0.7180950579905432,\n",
    "  \"train-accuracy\": 0.7557270916334662,\n",
    "  \"train-f1\": 0.7256144243518817,\n",
    "#   \"train_acc\": 0.7557270916334662,\n",
    "  \"test-precision\": 0.6008481489034315,\n",
    "  \"test-recall\": 0.5624620829120324,\n",
    "  \"test-accuracy\": 0.6054852320675106,\n",
    "  \"test-f1\": 0.5600987472947782,\n",
    "#   \"test_acc\": 0.6054852320675106,\n",
    "         }\n",
    "\n",
    "F_logs = {  \"train-precision\": 0.7263122830871495,\n",
    "  \"train-recall\": 0.7009938725243827,\n",
    "  \"train-accuracy\": 0.7400398406374502,\n",
    "  \"train-f1\": 0.7059839731224229,\n",
    "#   \"train_acc\": 0.7400398406374502,\n",
    "  \"test-precision\": 0.5768689872952927,\n",
    "  \"test-recall\": 0.5600723341370459,\n",
    "  \"test-accuracy\": 0.6054852320675106,\n",
    "  \"test-f1\": 0.5474210640365165,\n",
    "#   \"test_acc\": 0.6054852320675106,\n",
    "         }\n",
    "\n",
    "all_logs = {'A': A_logs, 'B': B2_logs, 'C': C_logs, 'D': D_logs, 'E': E_logs, 'F': F_logs}\n",
    "'''\n",
    "description: \n",
    "A \n",
    "Audio_only\n",
    "\n",
    "B \n",
    "Audio, phoneme, trans are aligned and have their seperate Positional encodings and then encoded, \n",
    "contatenated and passed through fully connected layers \n",
    "\n",
    "C\n",
    "audio, phoneme, trans are aligned but only one have one Positional encoding \n",
    "\n",
    "D\n",
    "audio phoneme trans are unaligned and have their own Positional encoding \n",
    "\n",
    "E\n",
    "audio, phoneme, trans are aligned, have their own PE, in addition to the phoneme and trans not aligned and having their own PE, \n",
    "all encoded and then concatenated, FC\n",
    "\n",
    "F\n",
    "audio, phoneme, trans are aligned, concatenated, one positional encoding and encoded (1). In additiona, phoneme unaligned, trans\n",
    "unaligned have their own respective PE, encoded, concated with (1), and then passed through FC. \n",
    "\n",
    "'''  \n"
   ]
  },
  {
   "cell_type": "code",
   "execution_count": 25,
   "metadata": {
    "collapsed": true
   },
   "outputs": [],
   "source": [
    "def draw_bar(data, index, title):\n",
    "    df = pd.DataFrame(data, index=index)\n",
    "    ax=df.plot.bar(figsize=(15,5))\n",
    "    plt.title(title)\n",
    "    plt.show()"
   ]
  },
  {
   "cell_type": "code",
   "execution_count": 26,
   "metadata": {},
   "outputs": [
    {
     "name": "stdout",
     "output_type": "stream",
     "text": [
      "{'A': {'train-precision': 0.7097455166587656, 'train-recall': 0.6790534092393727, 'train-accuracy': 0.7188745019920318, 'train-f1': 0.6853571375721754, 'test-precision': 0.6120915815726278, 'test-recall': 0.5786252138912655, 'test-accuracy': 0.630801687763713, 'test-f1': 0.5663670543079437}, 'B': {'train-precision': 0.7781475553208416, 'train-recall': 0.7706874140389375, 'train-accuracy': 0.790089641434263, 'train-f1': 0.7732880329523869, 'test-precision': 0.6425908629675753, 'test-recall': 0.6418344578828654, 'test-accuracy': 0.6666666666666666, 'test-f1': 0.6365992321181975}, 'C': {'train-precision': 0.5186201405417659, 'train-recall': 0.5390155085375945, 'train-accuracy': 0.6187749003984063, 'train-f1': 0.5061176025077506, 'test-precision': 0.41228879426872134, 'test-recall': 0.4771437738197091, 'test-accuracy': 0.5210970464135021, 'test-f1': 0.4321305591762874}, 'D': {'train-precision': 0.7759518549702835, 'train-recall': 0.771169420085449, 'train-accuracy': 0.7853585657370518, 'train-f1': 0.7729255343528265, 'test-precision': 0.6441426292937236, 'test-recall': 0.6258147312747919, 'test-accuracy': 0.6455696202531646, 'test-f1': 0.6269390464620144}, 'E': {'train-precision': 0.7459963362462736, 'train-recall': 0.7180950579905432, 'train-accuracy': 0.7557270916334662, 'train-f1': 0.7256144243518817, 'test-precision': 0.6008481489034315, 'test-recall': 0.5624620829120324, 'test-accuracy': 0.6054852320675106, 'test-f1': 0.5600987472947782}, 'F': {'train-precision': 0.7263122830871495, 'train-recall': 0.7009938725243827, 'train-accuracy': 0.7400398406374502, 'train-f1': 0.7059839731224229, 'test-precision': 0.5768689872952927, 'test-recall': 0.5600723341370459, 'test-accuracy': 0.6054852320675106, 'test-f1': 0.5474210640365165}}\n"
     ]
    },
    {
     "data": {
      "image/png": "[encoded data removed]",
      "text/plain": [
       "<Figure size 1080x360 with 1 Axes>"
      ]
     },
     "metadata": {
      "needs_background": "light"
     },
     "output_type": "display_data"
    }
   ],
   "source": [
    "print(all_logs)\n",
    "draw_bar(all_logs, list(all_logs['A'].keys()), '')"
   ]
  },
  {
   "cell_type": "code",
   "execution_count": 19,
   "metadata": {},
   "outputs": [
    {
     "data": {
      "text/html": [
       "<div>\n",
       "<style scoped>\n",
       "    .dataframe tbody tr th:only-of-type {\n",
       "        vertical-align: middle;\n",
       "    }\n",
       "\n",
       "    .dataframe tbody tr th {\n",
       "        vertical-align: top;\n",
       "    }\n",
       "\n",
       "    .dataframe thead th {\n",
       "        text-align: right;\n",
       "    }\n",
       "</style>\n",
       "<table border=\"1\" class=\"dataframe\">\n",
       "  <thead>\n",
       "    <tr style=\"text-align: right;\">\n",
       "      <th></th>\n",
       "      <th>A</th>\n",
       "      <th>B</th>\n",
       "      <th>C</th>\n",
       "      <th>D</th>\n",
       "      <th>E</th>\n",
       "      <th>F</th>\n",
       "    </tr>\n",
       "  </thead>\n",
       "  <tbody>\n",
       "    <tr>\n",
       "      <th>train-precision</th>\n",
       "      <td>0.709746</td>\n",
       "      <td>0.778148</td>\n",
       "      <td>0.518620</td>\n",
       "      <td>0.775952</td>\n",
       "      <td>0.745996</td>\n",
       "      <td>0.726312</td>\n",
       "    </tr>\n",
       "    <tr>\n",
       "      <th>train-recall</th>\n",
       "      <td>0.679053</td>\n",
       "      <td>0.770687</td>\n",
       "      <td>0.539016</td>\n",
       "      <td>0.771169</td>\n",
       "      <td>0.718095</td>\n",
       "      <td>0.700994</td>\n",
       "    </tr>\n",
       "    <tr>\n",
       "      <th>train-accuracy</th>\n",
       "      <td>0.718875</td>\n",
       "      <td>0.790090</td>\n",
       "      <td>0.618775</td>\n",
       "      <td>0.785359</td>\n",
       "      <td>0.755727</td>\n",
       "      <td>0.740040</td>\n",
       "    </tr>\n",
       "    <tr>\n",
       "      <th>train-f1</th>\n",
       "      <td>0.685357</td>\n",
       "      <td>0.773288</td>\n",
       "      <td>0.506118</td>\n",
       "      <td>0.772926</td>\n",
       "      <td>0.725614</td>\n",
       "      <td>0.705984</td>\n",
       "    </tr>\n",
       "    <tr>\n",
       "      <th>train_acc</th>\n",
       "      <td>0.718875</td>\n",
       "      <td>0.790090</td>\n",
       "      <td>0.618775</td>\n",
       "      <td>0.785359</td>\n",
       "      <td>0.755727</td>\n",
       "      <td>0.740040</td>\n",
       "    </tr>\n",
       "    <tr>\n",
       "      <th>test-precision</th>\n",
       "      <td>0.612092</td>\n",
       "      <td>0.642591</td>\n",
       "      <td>0.412289</td>\n",
       "      <td>0.644143</td>\n",
       "      <td>0.600848</td>\n",
       "      <td>0.576869</td>\n",
       "    </tr>\n",
       "    <tr>\n",
       "      <th>test-recall</th>\n",
       "      <td>0.578625</td>\n",
       "      <td>0.641834</td>\n",
       "      <td>0.477144</td>\n",
       "      <td>0.625815</td>\n",
       "      <td>0.562462</td>\n",
       "      <td>0.560072</td>\n",
       "    </tr>\n",
       "    <tr>\n",
       "      <th>test-accuracy</th>\n",
       "      <td>0.630802</td>\n",
       "      <td>0.666667</td>\n",
       "      <td>0.521097</td>\n",
       "      <td>0.645570</td>\n",
       "      <td>0.605485</td>\n",
       "      <td>0.605485</td>\n",
       "    </tr>\n",
       "    <tr>\n",
       "      <th>test-f1</th>\n",
       "      <td>0.566367</td>\n",
       "      <td>0.636599</td>\n",
       "      <td>0.432131</td>\n",
       "      <td>0.626939</td>\n",
       "      <td>0.560099</td>\n",
       "      <td>0.547421</td>\n",
       "    </tr>\n",
       "    <tr>\n",
       "      <th>test_acc</th>\n",
       "      <td>0.630802</td>\n",
       "      <td>0.666667</td>\n",
       "      <td>0.521097</td>\n",
       "      <td>0.645570</td>\n",
       "      <td>0.605485</td>\n",
       "      <td>0.605485</td>\n",
       "    </tr>\n",
       "  </tbody>\n",
       "</table>\n",
       "</div>"
      ],
      "text/plain": [
       "                        A         B         C         D         E         F\n",
       "train-precision  0.709746  0.778148  0.518620  0.775952  0.745996  0.726312\n",
       "train-recall     0.679053  0.770687  0.539016  0.771169  0.718095  0.700994\n",
       "train-accuracy   0.718875  0.790090  0.618775  0.785359  0.755727  0.740040\n",
       "train-f1         0.685357  0.773288  0.506118  0.772926  0.725614  0.705984\n",
       "train_acc        0.718875  0.790090  0.618775  0.785359  0.755727  0.740040\n",
       "test-precision   0.612092  0.642591  0.412289  0.644143  0.600848  0.576869\n",
       "test-recall      0.578625  0.641834  0.477144  0.625815  0.562462  0.560072\n",
       "test-accuracy    0.630802  0.666667  0.521097  0.645570  0.605485  0.605485\n",
       "test-f1          0.566367  0.636599  0.432131  0.626939  0.560099  0.547421\n",
       "test_acc         0.630802  0.666667  0.521097  0.645570  0.605485  0.605485"
      ]
     },
     "execution_count": 19,
     "metadata": {},
     "output_type": "execute_result"
    }
   ],
   "source": [
    "pd.DataFrame(all_logs, list(all_logs['A'].keys()))"
   ]
  },
  {
   "cell_type": "code",
   "execution_count": 18,
   "metadata": {},
   "outputs": [
    {
     "data": {
      "text/plain": [
       "['train-precision',\n",
       " 'train-recall',\n",
       " 'train-accuracy',\n",
       " 'train-f1',\n",
       " 'train_acc',\n",
       " 'test-precision',\n",
       " 'test-recall',\n",
       " 'test-accuracy',\n",
       " 'test-f1',\n",
       " 'test_acc']"
      ]
     },
     "execution_count": 18,
     "metadata": {},
     "output_type": "execute_result"
    }
   ],
   "source": [
    "list(all_logs['A'].keys())"
   ]
  },
  {
   "cell_type": "code",
   "execution_count": null,
   "metadata": {
    "collapsed": true
   },
   "outputs": [],
   "source": []
  }
 ],
 "metadata": {
  "kernelspec": {
   "display_name": "Python 2",
   "language": "python",
   "name": "python2"
  },
  "language_info": {
   "codemirror_mode": {
    "name": "ipython",
    "version": 3
   },
   "file_extension": ".py",
   "mimetype": "text/x-python",
   "name": "python",
   "nbconvert_exporter": "python",
   "pygments_lexer": "ipython3",
   "version": "3.6.10"
  }
 },
 "nbformat": 4,
 "nbformat_minor": 2
}
